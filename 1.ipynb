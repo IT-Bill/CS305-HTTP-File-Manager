{
 "cells": [
  {
   "cell_type": "code",
   "execution_count": 3,
   "metadata": {},
   "outputs": [
    {
     "data": {
      "text/plain": [
       "'/root/CS'"
      ]
     },
     "execution_count": 3,
     "metadata": {},
     "output_type": "execute_result"
    }
   ],
   "source": [
    "import urllib, os, posixpath\n",
    "\n",
    "def path_to_local_system(self, input_path):\n",
    "    \"\"\"Convert an HTTP path to a local file system equivalent.\n",
    "\n",
    "    This method processes an HTTP-style path, removing any web-specific components,\n",
    "    and transforms it into a path compatible with the local file system.\n",
    "\n",
    "    \"\"\"\n",
    "    # Extracting the base path, excluding any query or fragment\n",
    "    base_path = input_path.split('?', 1)[0].split('#', 1)[0]\n",
    "    # Checking for and preserving a trailing slash\n",
    "    ends_with_slash = base_path[-1] == '/' if base_path else False\n",
    "    # Decoding any percent-encoded characters\n",
    "    try:\n",
    "        decoded_path = urllib.parse.unquote(base_path, errors='surrogatepass')\n",
    "    except UnicodeDecodeError:\n",
    "        decoded_path = urllib.parse.unquote(base_path)\n",
    "    # Standardizing the path\n",
    "    standardized_path = posixpath.normpath(decoded_path)\n",
    "    segments = [seg for seg in standardized_path.split('/') if seg]\n",
    "    final_path = self.directory\n",
    "    for part in segments:\n",
    "        if not os.path.dirname(part) and part not in (os.curdir, os.pardir):\n",
    "            final_path = os.path.join(final_path, part)\n",
    "    # Adding back the trailing slash if it was present\n",
    "    if ends_with_slash:\n",
    "        final_path += '/'\n",
    "    return final_path\n",
    "\n",
    "path_to_local_system(\"/CS\")"
   ]
  },
  {
   "cell_type": "code",
   "execution_count": 14,
   "metadata": {},
   "outputs": [
    {
     "data": {
      "text/plain": [
       "'Request fulfilled, document follows'"
      ]
     },
     "execution_count": 14,
     "metadata": {},
     "output_type": "execute_result"
    }
   ],
   "source": [
    "from lib.http import HTTPStatus\n",
    "\n",
    "HTTPStatus(200).description\n",
    "\n",
    "# for v in HTTPStatus.__members__.values():\n",
    "#     print(v, (v.phrase, v.description))"
   ]
  },
  {
   "cell_type": "code",
   "execution_count": 21,
   "metadata": {},
   "outputs": [
    {
     "name": "stdout",
     "output_type": "stream",
     "text": [
      "Wed, 13 Dec 2023 11:49:22 +0000\n",
      "Wed, 13 Dec 2023 19:49:22 +0759\n",
      "Wed, 13 Dec 2023 11:49:22 GMT\n"
     ]
    }
   ],
   "source": [
    "import time\n",
    "import datetime\n",
    "\n",
    "def formatdate(timeval=None, localtime=False, usegmt=False):\n",
    "    \"\"\"Returns a date string as specified by RFC 2822, e.g.:\n",
    "    \n",
    "    Fri, 09 Nov 2001 01:08:47 -0000\n",
    "    \n",
    "    Optional timeval if given is a floating point time value as accepted by\n",
    "    gmtime() and localtime(), otherwise the current time is used.\n",
    "    \n",
    "    Optional localtime is a flag that when True, interprets timeval, and\n",
    "    returns a date relative to the local timezone instead of UTC, properly\n",
    "    taking daylight savings time into account.\n",
    "    \n",
    "    Optional argument usegmt means that the timezone is written out as\n",
    "    an ascii string, not numeric one (so \"GMT\" instead of \"+0000\"). This\n",
    "    is needed for HTTP, and is only used when localtime==False.\n",
    "    \"\"\"\n",
    "    if timeval is None:\n",
    "        timeval = time.time()\n",
    "        \n",
    "    # Format the date according to RFC 2822\n",
    "    if localtime:\n",
    "        # Local time with timezone\n",
    "        tuple_time = time.localtime(timeval)\n",
    "        date_str = time.strftime(\"%a, %d %b %Y %H:%M:%S\", tuple_time)\n",
    "        if usegmt:\n",
    "            # Append 'GMT' if usegmt is True\n",
    "            date_str += \" GMT\"\n",
    "        else:\n",
    "            # Compute the local timezone offset\n",
    "            offset = datetime.datetime.now() - datetime.datetime.utcnow()\n",
    "            total_seconds = int(offset.total_seconds())\n",
    "            sign = \"+\" if total_seconds > 0 else \"-\"\n",
    "            hours_offset = abs(total_seconds) // 3600\n",
    "            minutes_offset = (abs(total_seconds) % 3600) // 60\n",
    "            date_str += \" {}{:02d}{:02d}\".format(sign, hours_offset, minutes_offset)\n",
    "    else:\n",
    "        # UTC/GMT time\n",
    "        tuple_time = time.gmtime(timeval)\n",
    "        date_str = time.strftime(\"%a, %d %b %Y %H:%M:%S\", tuple_time)\n",
    "        if usegmt:\n",
    "            date_str += \" GMT\"\n",
    "        else:\n",
    "            date_str += \" +0000\"\n",
    "\n",
    "    return date_str\n",
    "\n",
    "# Example usage:\n",
    "print(formatdate())  # Current time in UTC with numeric timezone\n",
    "print(formatdate(localtime=True))  # Current local time with numeric timezone\n",
    "print(formatdate(usegmt=True))  # Current time in UTC with 'GMT'\n"
   ]
  },
  {
   "cell_type": "code",
   "execution_count": 22,
   "metadata": {},
   "outputs": [
    {
     "name": "stdout",
     "output_type": "stream",
     "text": [
      "Encoded: VGVzdDo= -> Decoded: Test:\n",
      "Encoded: YWJjOg== -> Decoded: abc:\n",
      "Encoded: ZmFlZmZ3YWZlOmVmYWVmd2Fmd2Vm -> Decoded: faeffwafe:efaefwafwef\n"
     ]
    }
   ],
   "source": [
    "import base64\n",
    "\n",
    "# These are the Base64 encoded strings you provided\n",
    "encoded_credentials = [\n",
    "    \"VGVzdDo=\",\n",
    "    \"YWJjOg==\",\n",
    "    \"ZmFlZmZ3YWZlOmVmYWVmd2Fmd2Vm\"\n",
    "]\n",
    "\n",
    "# Decode each encoded string\n",
    "for encoded in encoded_credentials:\n",
    "    decoded = base64.b64decode(encoded).decode('utf-8')\n",
    "    print(f\"Encoded: {encoded} -> Decoded: {decoded}\")\n"
   ]
  },
  {
   "cell_type": "code",
   "execution_count": 2,
   "metadata": {},
   "outputs": [
    {
     "data": {
      "text/plain": [
       "'dGVzdDp0ZXN0'"
      ]
     },
     "execution_count": 2,
     "metadata": {},
     "output_type": "execute_result"
    }
   ],
   "source": [
    "import base64\n",
    "\n",
    "base64.b64encode(b'test:test').decode()"
   ]
  },
  {
   "cell_type": "code",
   "execution_count": 4,
   "metadata": {},
   "outputs": [
    {
     "data": {
      "text/plain": [
       "['MTExOg==', 'MjIyOg==']"
      ]
     },
     "execution_count": 4,
     "metadata": {},
     "output_type": "execute_result"
    }
   ],
   "source": [
    "info = [(\"111\", \"\"), (\"222\", \"\")]\n",
    "keys = [base64.b64encode('{}:{}'.format(user, pwd).encode()).decode() for user, pwd in info]\n",
    "keys"
   ]
  }
 ],
 "metadata": {
  "kernelspec": {
   "display_name": "Python 3",
   "language": "python",
   "name": "python3"
  },
  "language_info": {
   "codemirror_mode": {
    "name": "ipython",
    "version": 3
   },
   "file_extension": ".py",
   "mimetype": "text/x-python",
   "name": "python",
   "nbconvert_exporter": "python",
   "pygments_lexer": "ipython3",
   "version": "3.10.6"
  }
 },
 "nbformat": 4,
 "nbformat_minor": 2
}
