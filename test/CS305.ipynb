{
 "cells": [
  {
   "cell_type": "markdown",
   "metadata": {},
   "source": [
    "In the project, the majority of tasks will undergo script testing, with only a few being reviewed by the TA. Be aware that this testing material is not final and cannot cover all testing scenarios. If you are caught cheating during testing, the whole group will receive a score of 0 for the project."
   ]
  },
  {
   "cell_type": "markdown",
   "metadata": {},
   "source": [
    "The script checks using the requests library in Python. Before testing, ensure that the server has three users with the usernames \"client1\", \"client2\", and \"client3\", and the passwords \"123\". In the upcoming tests, if the Authorization field is needed, use \"client1\" and \"123\" as both the username and password."
   ]
  },
  {
   "cell_type": "code",
   "execution_count": 47,
   "metadata": {
    "ExecuteTime": {
     "end_time": "2023-11-20T12:25:19.957195500Z",
     "start_time": "2023-11-20T12:25:19.943241800Z"
    },
    "collapsed": false
   },
   "outputs": [],
   "source": [
    "import requests"
   ]
  },
  {
   "cell_type": "markdown",
   "metadata": {},
   "source": [
    "The initial check is the head request, a fundamental job of the server is to respond to the request. Use the \"headers\" parameter for logging into the server. Disregard this parameter if the server lacks the login feature."
   ]
  },
  {
   "cell_type": "code",
   "execution_count": 32,
   "metadata": {
    "ExecuteTime": {
     "end_time": "2023-11-20T12:25:22.005030700Z",
     "start_time": "2023-11-20T12:25:19.959189200Z"
    },
    "collapsed": false
   },
   "outputs": [
    {
     "name": "stdout",
     "output_type": "stream",
     "text": [
      "<Response [200]>\n"
     ]
    }
   ],
   "source": [
    "headers={\"Authorization\": \"Basic Y2xpZW50MToxMjM=\"}\n",
    "q=requests.head('http://localhost:8080/',headers=headers)\n",
    "print(q)\n"
   ]
  },
  {
   "cell_type": "raw",
   "metadata": {
    "collapsed": false
   },
   "source": [
    "Test get request"
   ]
  },
  {
   "cell_type": "code",
   "execution_count": 33,
   "metadata": {
    "ExecuteTime": {
     "end_time": "2023-11-20T12:25:24.051724200Z",
     "start_time": "2023-11-20T12:25:22.005977700Z"
    },
    "collapsed": false
   },
   "outputs": [
    {
     "name": "stdout",
     "output_type": "stream",
     "text": [
      "<Response [200]>\n"
     ]
    }
   ],
   "source": [
    "headers={\"Authorization\": \"Basic Y2xpZW50MToxMjM=\"}\n",
    "q=requests.get('http://localhost:8080/',headers=headers)\n",
    "print(q)"
   ]
  },
  {
   "cell_type": "raw",
   "metadata": {
    "collapsed": false
   },
   "source": [
    "Test post request"
   ]
  },
  {
   "cell_type": "code",
   "execution_count": 34,
   "metadata": {
    "ExecuteTime": {
     "end_time": "2023-11-20T12:25:26.094435700Z",
     "start_time": "2023-11-20T12:25:24.052720800Z"
    },
    "collapsed": false
   },
   "outputs": [
    {
     "name": "stdout",
     "output_type": "stream",
     "text": [
      "<Response [405]>\n"
     ]
    }
   ],
   "source": [
    "headers={\"Authorization\": \"Basic Y2xpZW50MToxMjM=\"}\n",
    "q=requests.post('http://localhost:8080/',headers=headers)\n",
    "print(q)"
   ]
  },
  {
   "cell_type": "raw",
   "metadata": {
    "collapsed": false
   },
   "source": [
    "Next, we will provide test examples based on the chapters in the project documentation. Each test is accompanied by a output. We do not check exact string matches for your output, as long as you complete the corresponding task.\n",
    "\n"
   ]
  },
  {
   "cell_type": "code",
   "execution_count": 48,
   "metadata": {
    "ExecuteTime": {
     "end_time": "2023-11-20T12:25:26.125331900Z",
     "start_time": "2023-11-20T12:25:26.096429200Z"
    },
    "collapsed": false
   },
   "outputs": [
    {
     "name": "stdout",
     "output_type": "stream",
     "text": [
      "<Response [200]>\n",
      "<Response [200]>\n"
     ]
    }
   ],
   "source": [
    "#1.1\n",
    "headers={\"Authorization\": \"Basic Y2xpZW50MToxMjM=\"}\n",
    "session = requests.Session()\n",
    "session.headers.update({'Connection': 'keep-alive'})\n",
    "\n",
    "response1 = session.get('http://127.0.0.1:8080',headers=headers)\n",
    "response2 = session.get('http://127.0.0.1:8080',headers=headers)\n",
    "\n",
    "print(response1)\n",
    "print(response2)\n"
   ]
  },
  {
   "cell_type": "code",
   "execution_count": 36,
   "metadata": {
    "ExecuteTime": {
     "end_time": "2023-11-20T12:25:26.128321900Z",
     "start_time": "2023-11-20T12:25:26.120348800Z"
    },
    "collapsed": false
   },
   "outputs": [
    {
     "name": "stdout",
     "output_type": "stream",
     "text": [
      "<Response [200]>\n",
      "<Response [200]>\n"
     ]
    }
   ],
   "source": [
    "#1.2\n",
    "#1.1\n",
    "headers={\"Authorization\": \"Basic Y2xpZW50MToxMjM=\"}\n",
    "session1 = requests.Session()\n",
    "session1.headers.update({'Connection': 'keep-alive'})\n",
    "session2 = requests.Session()\n",
    "session2.headers.update({'Connection': 'keep-alive'})\n",
    "\n",
    "response1 = session1.get('http://127.0.0.1:8080',headers=headers)\n",
    "response2 = session2.get('http://127.0.0.1:8080',headers=headers)\n",
    "\n",
    "\n",
    "print(response1)\n",
    "print(response2)\n"
   ]
  },
  {
   "cell_type": "code",
   "execution_count": 37,
   "metadata": {
    "ExecuteTime": {
     "end_time": "2023-11-20T12:25:30.194185200Z",
     "start_time": "2023-11-20T12:25:26.126329100Z"
    },
    "collapsed": false
   },
   "outputs": [
    {
     "name": "stdout",
     "output_type": "stream",
     "text": [
      "<Response [200]>\n",
      "<Response [401]>\n"
     ]
    }
   ],
   "source": [
    "#1.3\n",
    "headers1={\"Authorization\": \"Basic Y2xpZW50MToxMjM=\"}\n",
    "headers2={}\n",
    "q=requests.head('http://localhost:8080/',headers=headers1)\n",
    "print(q)\n",
    "q=requests.head('http://localhost:8080/',headers=headers2)\n",
    "print(q)"
   ]
  },
  {
   "cell_type": "code",
   "execution_count": 59,
   "metadata": {
    "ExecuteTime": {
     "end_time": "2023-11-20T12:25:30.223088800Z",
     "start_time": "2023-11-20T12:25:30.194185200Z"
    },
    "collapsed": false
   },
   "outputs": [
    {
     "name": "stdout",
     "output_type": "stream",
     "text": [
      "<Response [200]>\n",
      "['a.txt']\n"
     ]
    }
   ],
   "source": [
    "#2\n",
    "url1='http://127.0.0.1:8080/client1?SUSTech-HTTP=1'\n",
    "\n",
    "headers={\"Authorization\": \"Basic Y2xpZW50MToxMjM=\"}\n",
    "r=requests.get(url=url1, headers=headers)\n",
    "print(r)\n",
    "print(r.content.decode())\n",
    "\n",
    "\n"
   ]
  },
  {
   "cell_type": "code",
   "execution_count": 60,
   "metadata": {
    "ExecuteTime": {
     "end_time": "2023-11-20T12:25:30.227075200Z",
     "start_time": "2023-11-20T12:25:30.211128400Z"
    },
    "collapsed": false
   },
   "outputs": [
    {
     "name": "stdout",
     "output_type": "stream",
     "text": [
      "<!DOCTYPE html>\n",
      "<html>\n",
      "<head>\n",
      "<meta http-equiv=\"Content-Type\" content=\"text/html; charset=utf-8\">\n",
      "<title>Directory listing for /</title>\n",
      "</head>\n",
      "<style>\n",
      "\n",
      "                html, body {\n",
      "                    height: 100%;\n",
      "                    margin: 0;\n",
      "                    padding: 0;\n",
      "                    font-family: Arial, sans-serif;\n",
      "                }\n",
      "                body {\n",
      "                    background-image: url('background.jpg'); /* 替换为您的背景图片 URL */\n",
      "                    background-size: cover; /* 背景图片覆盖整个元素区域 */\n",
      "                    background-position: center; /* 背景图片居中 */\n",
      "                    background-attachment: fixed; /* 背景图片固定，不随内容滚动 */\n",
      "                    background-repeat: no-repeat; /* 背景图片不重复 */\n",
      "                    display: flex;\n",
      "                    justify-content: center;\n",
      "                    align-items: center;\n",
      "                    color: white; /* 根据您的背景颜色调整文字颜色 */\n",
      "                }\n",
      "                .container {\n",
      "                    width: 80%;\n",
      "                    background: rgba(0, 0, 0, 0.8);\n",
      "                    padding: 20px;\n",
      "                    border-radius: 10px;\n",
      "                    box-shadow: 0 2px 4px rgba(0, 0, 0, 0.2);\n",
      "                    z-index: 2;\n",
      "                }\n",
      "                .header {\n",
      "                    text-align: center;\n",
      "                    padding: 20px;\n",
      "                    font-size: 3em;\n",
      "                    color: red;\n",
      "                    font-family: 'Segoe UI', Tahoma, Geneva, Verdana, sans-serif;\n",
      "                    font-weight: bold;\n",
      "                    text-shadow: 2px 2px 4px rgba(0, 0, 0, 0.5);\n",
      "                }\n",
      "                h1 {\n",
      "                    text-align: center;\n",
      "                    font-size: 2em;\n",
      "                    color: #4CAF50;\n",
      "                }\n",
      "                ul {\n",
      "                    list-style-type: none;\n",
      "                    padding: 0;\n",
      "                }\n",
      "                li {\n",
      "                    padding: 8px 15px;\n",
      "                    border-bottom: 1px solid #ddd;\n",
      "                }\n",
      "                li a {\n",
      "                    text-decoration: none;\n",
      "                    color: #ffffff;\n",
      "                    display: block;\n",
      "                }\n",
      "                li a:hover {\n",
      "                    background-color: #f8f8f8;\n",
      "                    color: black;\n",
      "                }\n",
      "                hr {\n",
      "                    border: none;\n",
      "                    background-color: #ddd;\n",
      "                    height: 1px;\n",
      "                }\n",
      "            \n",
      "</style>\n",
      "<script>\n",
      "\n",
      "                function handleDelete(filename) {\n",
      "    fetch('http://127.0.0.1:8080/delete?path=/' + filename, {\n",
      "      method: 'POST',\n",
      "      headers: {\n",
      "        'Content-Type': 'application/json'\n",
      "      }\n",
      "    })\n",
      "            .then(response => {\n",
      "              // Handle the response as needed\n",
      "              // For example, you can check if the response indicates successful deletion\n",
      "\n",
      "              // Reload the page after deletion\n",
      "              window.location.reload();\n",
      "            })\n",
      "            .catch(error => {\n",
      "              // Handle errors if needed\n",
      "              console.error('Error deleting file:', error);\n",
      "            });\n",
      "                    }\n",
      "                    \n",
      "  function uploadFile() {\n",
      "            var fileInput = document.getElementById('fileInput');\n",
      "            var file = fileInput.files[0];\n",
      "            var formData = new FormData();\n",
      "            formData.append('file', file);\n",
      "\n",
      "            fetch('http://127.0.0.1:8080/upload?path=/', {\n",
      "                method: 'POST',\n",
      "                body: formData\n",
      "            })\n",
      "            .then(response => response.text())\n",
      "            .then(data => {\n",
      "                console.log(data);\n",
      "                alert('文件上传成功');\n",
      "                window.location.reload(); // 刷新页面\n",
      "            })\n",
      "            .catch(error => {\n",
      "                console.error('文件上传失败:', error);\n",
      "                alert('文件上传失败');\n",
      "            });\n",
      "        }\n",
      "                \n",
      "            \n",
      "</script>\n",
      "</head>\n",
      "<body>\n",
      "<div class='header'>HTTP FILE MANAGER</div>\n",
      "<div class='container'>\n",
      "<input type=\"file\" id=\"fileInput\" /><button onclick='uploadFile()'>Upload File</button>\n",
      "<h1>Directory listing for /</h1>\n",
      "<ul>\n",
      "<li><a href=\"/client1/?SUSTech-HTTP=0\">/</a></li>\n",
      "<li><a href=\"/?SUSTech-HTTP=0\">../</a></li>\n",
      "<li><a href=\"111/?SUSTech-HTTP=0\">111/</a> - Size: 4 KB, Last Modified: Mon Jan  1 23:33:44 2024</li>\n",
      "<button onclick=\"handleDelete('111/')\">Delete</button>\n",
      "<li><a href=\"12589/?SUSTech-HTTP=0\">12589/</a> - Size: 4 KB, Last Modified: Tue Dec 26 00:27:54 2023</li>\n",
      "<button onclick=\"handleDelete('12589/')\">Delete</button>\n",
      "<li><a href=\"222/?SUSTech-HTTP=0\">222/</a> - Size: 4 KB, Last Modified: Tue Dec 26 00:11:44 2023</li>\n",
      "<button onclick=\"handleDelete('222/')\">Delete</button>\n",
      "<li><a href=\"333/?SUSTech-HTTP=0\">333/</a> - Size: 4 KB, Last Modified: Mon Jan  1 20:21:41 2024</li>\n",
      "<button onclick=\"handleDelete('333/')\">Delete</button>\n",
      "<li><a href=\"a.py\">a.py</a> - Size: 0B, Last Modified: Mon Jan  1 18:54:35 2024</li>\n",
      "<button onclick=\"handleDelete('a.py')\">Delete</button>\n",
      "<li><a href=\"a.txt\">a.txt</a> - Size: 11 B, Last Modified: Mon Jan  1 18:54:35 2024</li>\n",
      "<button onclick=\"handleDelete('a.txt')\">Delete</button>\n",
      "<li><a href=\"client1/?SUSTech-HTTP=0\">client1/</a> - Size: 4 KB, Last Modified: Tue Jan  2 15:13:59 2024</li>\n",
      "<button onclick=\"handleDelete('client1/')\">Delete</button>\n",
      "<li><a href=\"client2/?SUSTech-HTTP=0\">client2/</a> - Size: 4 KB, Last Modified: Tue Dec 26 00:27:54 2023</li>\n",
      "<button onclick=\"handleDelete('client2/')\">Delete</button>\n",
      "<li><a href=\"client3/?SUSTech-HTTP=0\">client3/</a> - Size: 4 KB, Last Modified: Tue Dec 26 00:27:54 2023</li>\n",
      "<button onclick=\"handleDelete('client3/')\">Delete</button>\n",
      "</ul>\n",
      "<hr>\n",
      "</body>\n",
      "</html>\n",
      "\n"
     ]
    }
   ],
   "source": [
    "#2\n",
    "url2='http://127.0.0.1:8080/?SUSTech-HTTP=0'\n",
    "\n",
    "headers={\"Authorization\": \"Basic Y2xpZW50MToxMjM=\"}\n",
    "r=requests.get(url=url2, headers=headers)\n",
    "print(r.content.decode())"
   ]
  },
  {
   "cell_type": "code",
   "execution_count": 40,
   "metadata": {
    "ExecuteTime": {
     "end_time": "2023-11-20T12:25:30.242025200Z",
     "start_time": "2023-11-20T12:25:30.227075200Z"
    },
    "collapsed": false
   },
   "outputs": [
    {
     "name": "stdout",
     "output_type": "stream",
     "text": [
      "<Response [200]>\n",
      "sadfsdfasdf\n"
     ]
    }
   ],
   "source": [
    "#2\n",
    "headers={\"Authorization\": \"Basic Y2xpZW50MToxMjM=\"}\n",
    "r=requests.get(url='http://127.0.0.1:8080/a.txt', headers=headers)\n",
    "print(r)\n",
    "print(r.content.decode())"
   ]
  },
  {
   "cell_type": "code",
   "execution_count": 41,
   "metadata": {
    "ExecuteTime": {
     "end_time": "2023-11-20T12:25:30.259965300Z",
     "start_time": "2023-11-20T12:25:30.243021900Z"
    },
    "collapsed": false
   },
   "outputs": [
    {
     "name": "stdout",
     "output_type": "stream",
     "text": [
      "<Response [200]>\n",
      "<Response [403]>\n"
     ]
    }
   ],
   "source": [
    "#3.1\n",
    "files = {\"firstFile\": open('tmp/a.py', \"rb\")}\n",
    "\n",
    "\n",
    "data={}\n",
    "headers={\"Authorization\": \"Basic Y2xpZW50MToxMjM=\"}\n",
    "r=requests.post(url='http://127.0.0.1:8080/upload?path=client1/',data=data,headers=headers, files=files)\n",
    "print(r)\n",
    "r=requests.post(url='http://127.0.0.1:8080/upload?path=client2/',data=data,headers=headers, files=files)\n",
    "print(r)"
   ]
  },
  {
   "cell_type": "code",
   "execution_count": 42,
   "metadata": {
    "ExecuteTime": {
     "end_time": "2023-11-20T12:25:30.271925300Z",
     "start_time": "2023-11-20T12:25:30.257971700Z"
    },
    "collapsed": false
   },
   "outputs": [
    {
     "name": "stdout",
     "output_type": "stream",
     "text": [
      "<Response [200]>\n"
     ]
    }
   ],
   "source": [
    "#3.2\n",
    "url='http://127.0.0.1:8080/delete?path=client1/a.py'\n",
    "\n",
    "headers={\"Authorization\": \"Basic Y2xpZW50MToxMjM=\"}\n",
    "r=requests.post(url=url, headers=headers)\n",
    "print(r)"
   ]
  },
  {
   "cell_type": "code",
   "execution_count": 43,
   "metadata": {
    "ExecuteTime": {
     "end_time": "2023-11-20T12:25:32.321265500Z",
     "start_time": "2023-11-20T12:25:30.273918600Z"
    },
    "collapsed": false
   },
   "outputs": [
    {
     "name": "stdout",
     "output_type": "stream",
     "text": [
      "1f88bd66-30be-42c9-a8ef-d49e8a7824ff\n",
      "<Response [200]>\n"
     ]
    }
   ],
   "source": [
    "#4\n",
    "url='http://127.0.0.1:8080/'\n",
    "\n",
    "headers={\"Authorization\": \"Basic Y2xpZW50MToxMjM=\"}\n",
    "r=requests.get(url=url, headers=headers)\n",
    "print(r.cookies.values()[0])\n",
    "headers={\"Cookie\":'session-id='+r.cookies.values()[0]}\n",
    "q=requests.get('http://localhost:8080/',headers=headers)\n",
    "print(q)\n",
    "# print(q.cookies)"
   ]
  },
  {
   "cell_type": "code",
   "execution_count": 44,
   "metadata": {
    "ExecuteTime": {
     "end_time": "2023-11-20T12:25:32.340164500Z",
     "start_time": "2023-11-20T12:25:32.323259700Z"
    },
    "collapsed": false
   },
   "outputs": [
    {
     "name": "stdout",
     "output_type": "stream",
     "text": [
      "<Response [200]>\n",
      "b'sadfsdfasdf'\n"
     ]
    }
   ],
   "source": [
    "#5\n",
    "headers={\"Authorization\": \"Basic Y2xpZW50MToxMjM=\"}\n",
    "r=requests.get(url='http://127.0.0.1:8080/client1/a.txt?chunked=1', headers=headers)\n",
    "print(r)\n",
    "print(r.content)"
   ]
  },
  {
   "cell_type": "code",
   "execution_count": 54,
   "metadata": {
    "ExecuteTime": {
     "end_time": "2023-11-20T12:25:32.352124400Z",
     "start_time": "2023-11-20T12:25:32.338171Z"
    },
    "collapsed": false
   },
   "outputs": [
    {
     "name": "stdout",
     "output_type": "stream",
     "text": [
      "--3d6b6a416f9b5\n",
      "Content-Type: text/plain\n",
      "Content-Range: bytes 0-1/11\n",
      "\n",
      "sa\n",
      "--3d6b6a416f9b5\n",
      "Content-Type: text/plain\n",
      "Content-Range: bytes 1-2/11\n",
      "\n",
      "ad\n",
      "--3d6b6a416f9b5\n",
      "Content-Type: text/plain\n",
      "Content-Range: bytes 2-10/11\n",
      "\n",
      "dfsdfasdf\n",
      "--3d6b6a416f9b5--\n",
      "\n"
     ]
    }
   ],
   "source": [
    "#Breakpoint Transmission\n",
    "url='http://127.0.0.1:8080/client1/a.txt'\n",
    "\n",
    "data={}\n",
    "headers={\"Authorization\": \"Basic Y2xpZW50MToxMjM=\",\n",
    "         \"Range\": \"bytes=0-1,1-2,2-\"}\n",
    "r=requests.get(url=url, data=data, headers=headers)\n",
    "print(r.content.decode())\n"
   ]
  },
  {
   "cell_type": "code",
   "execution_count": 2,
   "metadata": {},
   "outputs": [
    {
     "name": "stdout",
     "output_type": "stream",
     "text": [
      "Test20\n",
      "name 'wait_time_normal' is not defined\n",
      "test20 Error\n"
     ]
    }
   ],
   "source": [
    "import requests\n",
    "def t20():\n",
    "    global grading, wait_time_normal, wait_time_speed\n",
    "    try:\n",
    "        print('Test20')  #\n",
    "        ########################################################\n",
    "        url1 = 'http://127.0.0.1:8080/client2/?SUSTech-HTTP=1'\n",
    "\n",
    "        headers = {\"Authorization\": \"Basic Y2xpZW50MToxMjM=\"}\n",
    "        r = requests.get(url=url1, headers=headers, timeout=wait_time_normal)\n",
    "        print(r.content.decode())\n",
    "        modify_str = str(r.content.decode()).replace(\"\\\"\", \"\\'\")\n",
    "        if modify_str == '[\\'1.txt\\', \\'10.txt\\', \\'11.txt\\', \\'13.txt\\', \\'14.txt\\', \\'15.txt\\', \\'16.txt\\', \\'17.txt\\', \\'18.txt\\', \\'19.txt\\', \\'2.txt\\', \\'20.txt\\', \\'21.txt\\', \\'22.txt\\', \\'23.txt\\', \\'24.txt\\', \\'25.txt\\', \\'26.txt\\', \\'27.txt\\', \\'28.txt\\', \\'29.txt\\', \\'3.txt\\', \\'30.txt\\', \\'31.txt\\', \\'32.txt\\', \\'33.txt\\', \\'34.txt\\', \\'35.txt\\', \\'36.txt\\', \\'4.txt\\', \\'5.txt\\', \\'6.txt\\', \\'7.txt\\', \\'8.txt\\', \\'9.txt\\']':  #######################################################################\n",
    "            grading[20] = 1  #\n",
    "    except Exception as a:\n",
    "        print(a)\n",
    "        print('test20 Error')  #\n",
    "    finally:\n",
    "        pass\n",
    "\n",
    "t20()"
   ]
  },
  {
   "cell_type": "code",
   "execution_count": 12,
   "metadata": {},
   "outputs": [
    {
     "name": "stdout",
     "output_type": "stream",
     "text": [
      "client1:123\n"
     ]
    }
   ],
   "source": [
    "import base64\n",
    "encoded_string = \"Y2xpZW50MToxMjM=\"\n",
    "decoded_string = base64.b64decode(encoded_string).decode('utf-8')\n",
    "\n",
    "print(decoded_string)\n"
   ]
  },
  {
   "cell_type": "code",
   "execution_count": null,
   "metadata": {},
   "outputs": [],
   "source": []
  }
 ],
 "metadata": {
  "kernelspec": {
   "display_name": "Python 3",
   "language": "python",
   "name": "python3"
  },
  "language_info": {
   "codemirror_mode": {
    "name": "ipython",
    "version": 3
   },
   "file_extension": ".py",
   "mimetype": "text/x-python",
   "name": "python",
   "nbconvert_exporter": "python",
   "pygments_lexer": "ipython3",
   "version": "3.10.6"
  }
 },
 "nbformat": 4,
 "nbformat_minor": 0
}
