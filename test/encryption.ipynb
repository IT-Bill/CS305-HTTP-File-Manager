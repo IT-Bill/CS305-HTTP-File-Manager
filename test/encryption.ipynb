{
 "cells": [
  {
   "cell_type": "code",
   "execution_count": 1,
   "metadata": {
    "collapsed": true
   },
   "outputs": [
    {
     "data": {
      "text/plain": "(b'Hello, this is a secret message!',\n b'gAAAAABljCc4_nlkWOJHYyWmojWRpo3E3UK9BZaqVzcgGiyJHFHYbYxzZpdGCVIAALjbL035uiqdgn2supb8WdhgpYt5FMmeop0UoCJBV8IE94_I5oFMf4n0bsd7_R58diozICt77tDi',\n b'Hello, this is a secret message!')"
     },
     "execution_count": 1,
     "metadata": {},
     "output_type": "execute_result"
    }
   ],
   "source": [
    "from cryptography.hazmat.backends import default_backend\n",
    "from cryptography.hazmat.primitives.asymmetric import rsa, padding\n",
    "from cryptography.hazmat.primitives import hashes, serialization\n",
    "from cryptography.hazmat.primitives.serialization import load_pem_public_key\n",
    "from cryptography.hazmat.primitives.asymmetric.padding import OAEP, MGF1\n",
    "from cryptography.hazmat.primitives import serialization\n",
    "from cryptography.fernet import Fernet\n",
    "\n",
    "def generate_rsa_keys():\n",
    "    # Generate private key\n",
    "    private_key = rsa.generate_private_key(\n",
    "        public_exponent=65537,\n",
    "        key_size=2048,\n",
    "        backend=default_backend()\n",
    "    )\n",
    "\n",
    "    # Generate public key\n",
    "    public_key = private_key.public_key()\n",
    "    return private_key, public_key\n",
    "\n",
    "def encrypt_message_with_public_key(message, public_key):\n",
    "    encrypted_message = public_key.encrypt(\n",
    "        message,\n",
    "        OAEP(\n",
    "            mgf=MGF1(algorithm=hashes.SHA256()),\n",
    "            algorithm=hashes.SHA256(),\n",
    "            label=None\n",
    "        )\n",
    "    )\n",
    "    return encrypted_message\n",
    "\n",
    "def decrypt_message_with_private_key(encrypted_message, private_key):\n",
    "    decrypted_message = private_key.decrypt(\n",
    "        encrypted_message,\n",
    "        OAEP(\n",
    "            mgf=MGF1(algorithm=hashes.SHA256()),\n",
    "            algorithm=hashes.SHA256(),\n",
    "            label=None\n",
    "        )\n",
    "    )\n",
    "    return decrypted_message\n",
    "\n",
    "def symmetric_encrypt_message(message, key):\n",
    "    f = Fernet(key)\n",
    "    return f.encrypt(message)\n",
    "\n",
    "def symmetric_decrypt_message(encrypted_message, key):\n",
    "    f = Fernet(key)\n",
    "    return f.decrypt(encrypted_message)\n",
    "\n",
    "# Server Side\n",
    "server_private_key, server_public_key = generate_rsa_keys()\n",
    "\n",
    "# Simulate client side\n",
    "# Client requests server's public key (simulated here by directly accessing it)\n",
    "# Generate symmetric key for encryption\n",
    "symmetric_key = Fernet.generate_key()\n",
    "\n",
    "# Client encrypts the symmetric key using server's public key\n",
    "encrypted_symmetric_key = encrypt_message_with_public_key(symmetric_key, server_public_key)\n",
    "\n",
    "# Server decrypts the received symmetric key using its private key\n",
    "decrypted_symmetric_key = decrypt_message_with_private_key(encrypted_symmetric_key, server_private_key)\n",
    "\n",
    "# Test the encryption and decryption process with symmetric key\n",
    "test_message = b\"Hello, this is a secret message!\"\n",
    "encrypted_message = symmetric_encrypt_message(test_message, decrypted_symmetric_key)\n",
    "decrypted_message = symmetric_decrypt_message(encrypted_message, decrypted_symmetric_key)\n",
    "\n",
    "test_message, encrypted_message, decrypted_message\n"
   ]
  }
 ],
 "metadata": {
  "kernelspec": {
   "display_name": "Python 3",
   "language": "python",
   "name": "python3"
  },
  "language_info": {
   "codemirror_mode": {
    "name": "ipython",
    "version": 2
   },
   "file_extension": ".py",
   "mimetype": "text/x-python",
   "name": "python",
   "nbconvert_exporter": "python",
   "pygments_lexer": "ipython2",
   "version": "2.7.6"
  }
 },
 "nbformat": 4,
 "nbformat_minor": 0
}
