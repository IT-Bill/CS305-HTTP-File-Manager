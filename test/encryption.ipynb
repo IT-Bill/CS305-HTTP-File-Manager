{
 "cells": [
  {
   "cell_type": "code",
   "execution_count": 28,
   "metadata": {},
   "outputs": [
    {
     "name": "stdout",
     "output_type": "stream",
     "text": [
      "Origin request: b'Secret message'\n",
      "Encrypted request: b'gAAAAABlksDV5JFs7TZz_DVmAvxwIbvVX1awUW1gfcoaQlZNXxM-VRhcUA6mIOVzMLvGCkkTmhwGwmU00PBI3qglSNq-Jm7ibA=='\n",
      "Origin response: b'gAAAAABlksDVh4HXxCyjza2d_x6mc8h0vJLC9QIuDdHARODvwMaIueg46sqdijDyHY9gxN2WxlAFYFO3n_gC9PmRJ6igkIeP5q7kRL9-URlDQiwF2ZjXAQQ='\n",
      "Decrypted response: Response to encrypted request\n"
     ]
    }
   ],
   "source": [
    "import requests\n",
    "from cryptography.hazmat.primitives import serialization\n",
    "from lib.utils import *\n",
    "\n",
    "def get_public_key_pem(public_key):\n",
    "    return public_key.public_bytes(\n",
    "        encoding=serialization.Encoding.PEM,\n",
    "        format=serialization.PublicFormat.SubjectPublicKeyInfo\n",
    "    )\n",
    "\n",
    "session = requests.Session()\n",
    "\n",
    "# 请求服务器的公钥\n",
    "response = session.get(\"http://localhost:8080/public_key\")\n",
    "server_public_key = serialization.load_pem_public_key(response.content)\n",
    "\n",
    "# 生成对称密钥并加密\n",
    "symmetric_key = generate_symmetric_key()\n",
    "\n",
    "# 使用公钥对象获取 PEM 格式的公钥\n",
    "server_public_key_pem = get_public_key_pem(server_public_key)\n",
    "\n",
    "# 使用 PEM 格式的公钥进行加密\n",
    "encrypted_symmetric_key = encrypt_msg_with_public_key(symmetric_key, server_public_key_pem)\n",
    "\n",
    "# 发送加密的对称密钥给服务器\n",
    "session.post(\"http://localhost:8080/receive_symmetric_key\", data=encrypted_symmetric_key)\n",
    "\n",
    "# 使用对称密钥加密通信内容\n",
    "data = b\"Secret message\"\n",
    "encrypted_data = symmetric_encrypt_msg(data, symmetric_key)\n",
    "# 发送加密数据\n",
    "response = session.post(\"http://localhost:8080/encrypted_endpoint\", data=encrypted_data)\n",
    "\n",
    "# 解密返回的数据\n",
    "encrypted_response = response.content\n",
    "decrypted_response = symmetric_decrypt_msg(encrypted_response, symmetric_key)\n",
    "\n",
    "# 处理或打印解密后的响应\n",
    "print(\"Origin request:\", data)\n",
    "print(\"Encrypted request:\", encrypted_data)\n",
    "print(\"Origin response:\", encrypted_response)\n",
    "print(\"Decrypted response:\", decrypted_response.decode())\n"
   ]
  },
  {
   "cell_type": "code",
   "execution_count": 29,
   "metadata": {},
   "outputs": [
    {
     "name": "stderr",
     "output_type": "stream",
     "text": [
      "\u001b[33mWARNING\u001b[0m: \u001b[37mThis is a warning message with variable parameters\u001b[0m\n"
     ]
    }
   ],
   "source": [
    "import logging\n",
    "\n",
    "# 定义自定义日志格式和颜色\n",
    "class CustomFormatter(logging.Formatter):\n",
    "    \"\"\"自定义一个日志格式器\"\"\"\n",
    "\n",
    "    YELLOW = '\\033[33m'\n",
    "    WHITE = '\\033[37m'\n",
    "    RESET = '\\033[0m'\n",
    "\n",
    "    FORMAT = \"%(levelcolor)s%(levelname)s%(reset)s: %(messagecolor)s%(message)s%(reset)s\"\n",
    "\n",
    "    FORMATS = {\n",
    "        logging.WARNING: FORMAT.replace('%(levelcolor)s', YELLOW).replace('%(messagecolor)s', WHITE)\n",
    "    }\n",
    "\n",
    "    def format(self, record):\n",
    "        log_fmt = self.FORMATS.get(record.levelno)\n",
    "        formatter = logging.Formatter(log_fmt, style='%')\n",
    "        formatter.default_time_format = '%Y-%m-%d %H:%M:%S'\n",
    "        formatter.default_msec_format = '%s.%03d'\n",
    "        record.reset = self.RESET\n",
    "        return formatter.format(record)\n",
    "\n",
    "def setup_logger():\n",
    "    \"\"\"设置日志记录器\"\"\"\n",
    "    logger = logging.getLogger(\"custom_logger\")\n",
    "    logger.setLevel(logging.WARNING)\n",
    "    ch = logging.StreamHandler()\n",
    "    ch.setLevel(logging.WARNING)\n",
    "    ch.setFormatter(CustomFormatter())\n",
    "    logger.addHandler(ch)\n",
    "    return logger\n",
    "\n",
    "# 使用自定义日志记录器\n",
    "logger = setup_logger()\n",
    "\n",
    "# 测试日志记录器\n",
    "logger.warning(\"This is a warning message with %s\", \"variable parameters\")\n"
   ]
  }
 ],
 "metadata": {
  "kernelspec": {
   "display_name": "Python 3",
   "language": "python",
   "name": "python3"
  },
  "language_info": {
   "codemirror_mode": {
    "name": "ipython",
    "version": 3
   },
   "file_extension": ".py",
   "mimetype": "text/x-python",
   "name": "python",
   "nbconvert_exporter": "python",
   "pygments_lexer": "ipython3",
   "version": "3.10.6"
  }
 },
 "nbformat": 4,
 "nbformat_minor": 0
}
