{
 "cells": [
  {
   "cell_type": "code",
   "execution_count": 5,
   "metadata": {},
   "outputs": [
    {
     "name": "stdout",
     "output_type": "stream",
     "text": [
      "200\n",
      "\n"
     ]
    }
   ],
   "source": [
    "import requests\n",
    "import lib\n",
    "\n",
    "# 目标 URL，假设文件管理器运行在 localhost 的 8000 端口\n",
    "url = 'http://localhost:8000/upload?path=/111/'\n",
    "\n",
    "# 要上传的文件路径\n",
    "file_path = 'README.md'\n",
    "\n",
    "# 准备文件数据\n",
    "files = {'file': open(file_path, 'rb')}\n",
    "\n",
    "headers = {\n",
    "    \"authorization\": \"Basic \" + lib.keys[0],\n",
    "    \"Content-Disposition\": \"filename=\" + file_path\n",
    "}\n",
    "\n",
    "# 发送 POST 请求\n",
    "response = requests.post(url, files=files, headers=headers)\n",
    "\n",
    "# 打印响应\n",
    "print(response.status_code)\n",
    "print(response.text)\n"
   ]
  },
  {
   "cell_type": "code",
   "execution_count": 7,
   "metadata": {},
   "outputs": [
    {
     "name": "stdout",
     "output_type": "stream",
     "text": [
      "404\n",
      "\n"
     ]
    }
   ],
   "source": [
    "import requests\n",
    "import lib\n",
    "\n",
    "file_path = 'README.md1'\n",
    "url = 'http://localhost:8000/delete?path=/111/' + file_path\n",
    "\n",
    "headers = {\n",
    "    \"authorization\": \"Basic \" + lib.keys[0],\n",
    "    \"Content-Disposition\": \"filename=\" + file_path\n",
    "}\n",
    "\n",
    "# 发送 POST 请求\n",
    "response = requests.post(url, headers=headers)\n",
    "\n",
    "# 打印响应\n",
    "print(response.status_code)\n",
    "print(response.text)\n"
   ]
  },
  {
   "cell_type": "code",
   "execution_count": null,
   "metadata": {},
   "outputs": [],
   "source": [
    "import requests"
   ]
  },
  {
   "cell_type": "code",
   "execution_count": 6,
   "metadata": {},
   "outputs": [
    {
     "name": "stdout",
     "output_type": "stream",
     "text": [
      "\u001b[31msome red text\n",
      "\u001b[42mand with a green background\n",
      "\u001b[2mand in dim text\n",
      "\u001b[0m\n",
      "back to normal now\n"
     ]
    }
   ],
   "source": [
    "\n",
    "from colorama import Fore, Back, Style\n",
    "print(Fore.RED + 'some red text')\n",
    "print(Back.GREEN + 'and with a green background')\n",
    "print(Style.DIM + 'and in dim text')\n",
    "print(Style.RESET_ALL)\n",
    "print('back to normal now')"
   ]
  },
  {
   "cell_type": "code",
   "execution_count": 10,
   "metadata": {},
   "outputs": [],
   "source": [
    "from base64 import b64encode, b64decode\n",
    "\n",
    "\n",
    "class BasicAuth:\n",
    "    _info = [BasicAuth(u, p) for u, p in [(\"111\", \"\"), (\"222\", \"\"), (\"333\", \"\")]]\n",
    "\n",
    "    def __init__(self, username, password):\n",
    "        self.username = username\n",
    "        self.password = password\n",
    "\n",
    "    def __eq__(self, other) -> bool:\n",
    "        return all(\n",
    "            [\n",
    "                self.username == getattr(other, \"username\", None),\n",
    "                self.password == getattr(other, \"password\", None),\n",
    "            ]\n",
    "        )\n",
    "\n",
    "    @classmethod\n",
    "    def from_auth_header(cls, header):\n",
    "        if header is None:\n",
    "            return None\n",
    "\n",
    "        key = header.split(maxsplit=1)[1]\n",
    "        username, password = b64decode(key).decode(\"ascii\").split(\":\", maxsplit=1)\n",
    "        auth = BasicAuth(username, password)\n",
    "        return auth\n",
    "\n",
    "    @property\n",
    "    def valid(self):\n",
    "        return self in BasicAuth._info"
   ]
  },
  {
   "cell_type": "code",
   "execution_count": 23,
   "metadata": {},
   "outputs": [
    {
     "data": {
      "text/plain": [
       "True"
      ]
     },
     "execution_count": 23,
     "metadata": {},
     "output_type": "execute_result"
    }
   ],
   "source": [
    "auth1 = BasicAuth(\"111\", \"\")\n",
    "auth1.valid"
   ]
  },
  {
   "cell_type": "code",
   "execution_count": 1,
   "metadata": {},
   "outputs": [
    {
     "data": {
      "text/plain": [
       "b'client1:123'"
      ]
     },
     "execution_count": 1,
     "metadata": {},
     "output_type": "execute_result"
    }
   ],
   "source": [
    "import base64\n",
    "\n",
    "base64.b64decode(\"Y2xpZW50MToxMjM=\")"
   ]
  },
  {
   "cell_type": "code",
   "execution_count": 8,
   "metadata": {},
   "outputs": [
    {
     "data": {
      "text/plain": [
       "<Response [200]>"
      ]
     },
     "execution_count": 8,
     "metadata": {},
     "output_type": "execute_result"
    }
   ],
   "source": [
    "import requests\n",
    "headers = {\n",
    "    \"Authorization\": \"Basic Y2xpZW50MToxMjM=\"\n",
    "}\n",
    "query = {\n",
    "    \"path\": \"/client1/a.py\"\n",
    "}\n",
    "requests.get(\"http://127.0.0.1:8080/client1/?SUSTech-HTTP=1\", headers=headers)\n",
    "\n"
   ]
  },
  {
   "cell_type": "code",
   "execution_count": null,
   "metadata": {},
   "outputs": [],
   "source": [
    "import requests\n",
    "\n",
    "url='http://127.0.0.1:8080/client1/a.txt'\n",
    "\n",
    "data={}\n",
    "headers={\"Authorization\": \"Basic Y2xpZW50MToxMjM=\",\n",
    "         \"Connection\" : \"keep-alive\"}\n",
    "\n",
    "with requests.Session() as session:\n",
    "    session.headers.update(headers)\n",
    "    r=session.get(url=url, data=data, headers=headers)\n",
    "    print(r.content.decode())"
   ]
  },
  {
   "cell_type": "code",
   "execution_count": 191,
   "metadata": {},
   "outputs": [
    {
     "name": "stdout",
     "output_type": "stream",
     "text": [
      "sadfsdfasdffyfyfyjtfafwafafguafawefwafasdffyfyaewfefafawfawfwaffyfy我我我                                                                                                                        \n",
      "                                                         \n"
     ]
    }
   ],
   "source": [
    "import requests\n",
    "\n",
    "url='http://127.0.0.1:8080/client1/a.txt'\n",
    "\n",
    "data={}\n",
    "param={\"chunked\": 1}\n",
    "headers={\"Authorization\": \"Basic Y2xpZW50MToxMjM=\",\n",
    "         \"Connection\": \"close\"}\n",
    "r=requests.get(url=url, data=data, headers=headers, params=param)\n",
    "print(r.content.decode())"
   ]
  },
  {
   "cell_type": "code",
   "execution_count": 202,
   "metadata": {},
   "outputs": [
    {
     "name": "stdout",
     "output_type": "stream",
     "text": [
      "416\n"
     ]
    }
   ],
   "source": [
    "import requests\n",
    "\n",
    "url='http://127.0.0.1:8080/client1/a.txt'\n",
    "\n",
    "data={}\n",
    "headers={\"Authorization\": \"Basic Y2xpZW50MToxMjM=\",\n",
    "         \"Range\": \"bytes=2-1\", \"Connection\": \"close\"}\n",
    "r=requests.get(url=url, data=data, headers=headers)\n",
    "print(r.status_code)"
   ]
  },
  {
   "cell_type": "code",
   "execution_count": 77,
   "metadata": {},
   "outputs": [
    {
     "name": "stdout",
     "output_type": "stream",
     "text": [
      "111\n"
     ]
    }
   ],
   "source": [
    "if not \"\":\n",
    "    print(111)"
   ]
  },
  {
   "cell_type": "code",
   "execution_count": 170,
   "metadata": {},
   "outputs": [
    {
     "data": {
      "text/plain": [
       "274"
      ]
     },
     "execution_count": 170,
     "metadata": {},
     "output_type": "execute_result"
    }
   ],
   "source": [
    "sum(list(map(int, ['17', '36', '32',   '17', '36', '32', '17', '36', '32',   '19'])))"
   ]
  },
  {
   "cell_type": "code",
   "execution_count": 6,
   "metadata": {},
   "outputs": [
    {
     "name": "stdout",
     "output_type": "stream",
     "text": [
      "['a.py', 'a.txt']\n"
     ]
    }
   ],
   "source": [
    "import requests\n",
    "\n",
    "headers = {\n",
    "    \"Authorization\" : \"Basic Y2xpZW50MToxMjM=\"\n",
    "}\n",
    "\n",
    "url = 'http://127.0.0.1:8080'\n",
    "r = requests.get(url=url, headers=headers, params={\"SUSTech-HTTP\": 0})\n",
    "print(r.content.decode())"
   ]
  }
 ],
 "metadata": {
  "kernelspec": {
   "display_name": "Python 3",
   "language": "python",
   "name": "python3"
  },
  "language_info": {
   "codemirror_mode": {
    "name": "ipython",
    "version": 3
   },
   "file_extension": ".py",
   "mimetype": "text/x-python",
   "name": "python",
   "nbconvert_exporter": "python",
   "pygments_lexer": "ipython3",
   "version": "3.10.6"
  }
 },
 "nbformat": 4,
 "nbformat_minor": 2
}
